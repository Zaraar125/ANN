{
 "cells": [
  {
   "cell_type": "code",
   "execution_count": 333,
   "id": "bc8b1e81",
   "metadata": {},
   "outputs": [],
   "source": [
    "import numpy as np \n",
    "import pandas as pd\n",
    "from sklearn import datasets\n",
    "from sklearn.metrics import classification_report\n",
    "from sklearn.model_selection import train_test_split"
   ]
  },
  {
   "cell_type": "markdown",
   "id": "61ec2792",
   "metadata": {},
   "source": [
    "# Class of Neural Network with Affine Layer "
   ]
  },
  {
   "cell_type": "code",
   "execution_count": 328,
   "id": "c4f5cec1",
   "metadata": {},
   "outputs": [],
   "source": [
    "class NeuralNetwork:\n",
    "    def __init__(self):\n",
    "        self.temp=0\n",
    "        self.weights=[]\n",
    "        self.bias=[]\n",
    "        self.outputs=0\n",
    "        self.derivative_table=0\n",
    "        self.model_loss=100\n",
    "        self.local_derivatives=[]\n",
    "    def initialize_weights_and_bais(self,X,layers,neurons):\n",
    "        l=X.shape[1]\n",
    "        for i,j in enumerate(neurons):\n",
    "            self.weights.append(np.array([np.random.random(l) for k in range(j)]))\n",
    "            self.bias.append(np.round(np.random.random(j),6))\n",
    "            l=self.weights[i].shape[0]\n",
    "    def ReLU(self,INPUT):\n",
    "        INPUT[INPUT<0]=0\n",
    "        derr=np.zeros_like(INPUT)\n",
    "        derr[INPUT>0]=1\n",
    "        return INPUT,derr\n",
    "    def forward(self,X):\n",
    "        a=X\n",
    "        for i in range(len(self.weights)):\n",
    "            dw=a\n",
    "            a=np.dot(a,self.weights[i].T)+self.bias[i]\n",
    "            dx=self.weights[i]\n",
    "            db=np.ones(self.bias[i].shape)\n",
    "            if i!=len(self.weights)-1:\n",
    "                relu,relu_derr=self.ReLU(a)\n",
    "            else :\n",
    "                relu=np.array([0])\n",
    "                relu_derr=np.array([0])\n",
    "            self.local_derivatives.append([relu,dw,dx,db,relu_derr])\n",
    "            if i!=len(self.weights)-1:\n",
    "                a=relu\n",
    "#             print('O : ',a.shape,' DW: ' ,dw.shape,' DX: ' ,dx.shape,' DB: ' ,db.shape,' relu: ',relu.shape,' derr: ',relu_derr.shape)\n",
    "        return a\n",
    "    \n",
    "    def loss(self,y,outputs):\n",
    "        self.derivative_table=outputs-outputs[np.arange(y.shape[0]),y].reshape(-1,1)\n",
    "        self.derivative_table[self.derivative_table<=0]=0\n",
    "        self.model_loss=np.sum(self.derivative_table)\n",
    "        self.derivative_table[self.derivative_table>0]=1\n",
    "        self.derivative_table[np.arange(y.shape[0]),y]=np.sum(self.derivative_table,axis=1)*-1\n",
    "        return self.derivative_table\n",
    "        \n",
    "    def backward(self,LR,output):\n",
    "        holding_weights=[]\n",
    "        holding_bias=[]\n",
    "        final_output=output\n",
    "        for i in reversed(self.local_derivatives):\n",
    "            if i[-1].shape[0]!=1:\n",
    "                final_ouput=np.multiply(final_output,i[-1])\n",
    "            \n",
    "#             print('Ouput : ',final_output.shape)\n",
    "#             print('DW : ',i[1].shape)\n",
    "#             print('DX : ',i[2].shape)\n",
    "#             print('DB : ',i[3].shape)\n",
    "#             print('weights : ',np.dot(final_output.T,i[1]).shape)  # updated weights\n",
    "#             print('bias : ',np.sum(final_output,axis=0).shape)  # updated bias\n",
    "#             print('x : ',np.dot(final_output,i[2]).shape)\n",
    "            \n",
    "            holding_weights.append(np.dot(final_output.T,i[1]))\n",
    "            holding_bias.append(np.sum(final_output,axis=0))\n",
    "            final_output=np.dot(final_output,i[2])\n",
    "#             print('\\n')\n",
    "            \n",
    "        c=len(self.weights)-1\n",
    "        for i in range(len(holding_weights)):\n",
    "            self.weights[c]=self.weights[c]-(LR*holding_weights[i])\n",
    "            self.bias[c]=self.bias[c]-(LR*holding_bias[i])\n",
    "            c=c-1\n",
    "            \n",
    "    def train(self,X,y,layers,neurons,LR=0.0001,iterations=50000,loss_time=1000):\n",
    "\n",
    "        self.initialize_weights_and_bais(X,layers,neurons)\n",
    "        for i in range(iterations):\n",
    "            OUT=self.forward(X)\n",
    "            DERR=self.loss(y,OUT)\n",
    "            self.backward(LR,DERR)\n",
    "\n",
    "            self.local_derivatives=[]            # empty local derivatives to calculate them again\n",
    "            if i%loss_time==0:\n",
    "                print(self.model_loss)\n",
    "    def test(self,X,y):\n",
    "        \n",
    "        temp=self.forward(X)\n",
    "        holder=[]\n",
    "        for i in temp:\n",
    "            i=list(i)\n",
    "            holder.append(i.index(max(i)))\n",
    "        tt = sum(1 for x, z in zip(holder, y) if x == z)\n",
    "        print((tt/len(holder))*100)"
   ]
  },
  {
   "cell_type": "markdown",
   "id": "38074c03",
   "metadata": {},
   "source": [
    "# Preparing Dataset"
   ]
  },
  {
   "cell_type": "code",
   "execution_count": 329,
   "id": "bf34bc94",
   "metadata": {},
   "outputs": [],
   "source": [
    "data=datasets.load_iris()\n",
    "x,y,names=data['data'],data['target'],data[\"target_names\"]"
   ]
  },
  {
   "cell_type": "markdown",
   "id": "a2af90f6",
   "metadata": {},
   "source": [
    "# Splitting the Dataset into Training and Testing"
   ]
  },
  {
   "cell_type": "code",
   "execution_count": 330,
   "id": "a1fab90a",
   "metadata": {},
   "outputs": [],
   "source": [
    "x_train,x_test,y_train,y_test=train_test_split(x,y,test_size=0.1,shuffle=True)"
   ]
  },
  {
   "cell_type": "markdown",
   "id": "b56007ef",
   "metadata": {},
   "source": [
    "# Training the Model "
   ]
  },
  {
   "cell_type": "code",
   "execution_count": 331,
   "id": "cc096c6e",
   "metadata": {},
   "outputs": [
    {
     "name": "stdout",
     "output_type": "stream",
     "text": [
      "446.7748298093375\n",
      "0.30507064904800707\n",
      "0.18133778942878642\n",
      "0.1735769170961916\n",
      "0.10343510778420395\n",
      "0.09240511238898641\n",
      "0.10572184955385566\n",
      "0.07738839544607856\n",
      "0.16674687460594306\n",
      "0.05837133431515262\n",
      "0.14216171728630478\n",
      "0.048739384764211025\n",
      "0.08614257973317407\n",
      "0.07536117514520413\n",
      "0.06524567936800807\n",
      "0.05890605210416133\n",
      "0.049696380661291784\n",
      "0.04112907518251063\n",
      "0.033336156839508746\n",
      "0.030292337024555138\n",
      "0.030334796125012886\n",
      "0.03196358704887459\n",
      "0.16363152119947344\n",
      "0.029528238439780807\n",
      "0.029339115109271674\n",
      "0.2193427652186415\n",
      "0.10344473803632681\n",
      "0.22873616604487523\n",
      "0.029059768600511404\n",
      "0.029218820097272058\n",
      "0.047618902115736716\n",
      "0.03917005106348803\n",
      "0.032215172984651375\n",
      "0.10682258084485774\n",
      "0.04099818481008022\n",
      "0.03078838795678962\n",
      "0.11850175522896222\n",
      "0.03209933845902668\n",
      "0.029649232624890942\n",
      "0.02941902223262005\n",
      "0.11916298139433579\n",
      "0.029146216304964057\n",
      "0.05077367198617999\n",
      "0.02935541594486679\n",
      "0.02932870894660411\n",
      "0.029308855682938173\n",
      "0.03156744975793835\n",
      "0.02910708237325821\n",
      "0.05380571006183388\n",
      "0.02894672929435771\n"
     ]
    }
   ],
   "source": [
    "a=NeuralNetwork()\n",
    "a.train(x_train,y_train,2,[5,3])"
   ]
  },
  {
   "cell_type": "markdown",
   "id": "fc2d7557",
   "metadata": {},
   "source": [
    "# Testing the Model"
   ]
  },
  {
   "cell_type": "code",
   "execution_count": 332,
   "id": "385178b6",
   "metadata": {},
   "outputs": [
    {
     "name": "stdout",
     "output_type": "stream",
     "text": [
      "100.0\n"
     ]
    }
   ],
   "source": [
    "a.test(x_test,y_test)"
   ]
  },
  {
   "cell_type": "code",
   "execution_count": null,
   "id": "bd6d5e10",
   "metadata": {},
   "outputs": [],
   "source": []
  },
  {
   "cell_type": "code",
   "execution_count": null,
   "id": "d44e9e19",
   "metadata": {},
   "outputs": [],
   "source": []
  }
 ],
 "metadata": {
  "kernelspec": {
   "display_name": "Python 3 (ipykernel)",
   "language": "python",
   "name": "python3"
  },
  "language_info": {
   "codemirror_mode": {
    "name": "ipython",
    "version": 3
   },
   "file_extension": ".py",
   "mimetype": "text/x-python",
   "name": "python",
   "nbconvert_exporter": "python",
   "pygments_lexer": "ipython3",
   "version": "3.11.4"
  }
 },
 "nbformat": 4,
 "nbformat_minor": 5
}
