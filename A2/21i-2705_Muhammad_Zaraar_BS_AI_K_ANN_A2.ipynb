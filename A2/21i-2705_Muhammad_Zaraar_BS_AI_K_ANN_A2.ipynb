{
 "cells": [
  {
   "cell_type": "code",
   "execution_count": 1,
   "id": "6d3c7557",
   "metadata": {},
   "outputs": [],
   "source": [
    "import numpy as np\n",
    "import pandas as pd\n",
    "from sklearn import datasets\n",
    "from sklearn.model_selection import train_test_split"
   ]
  },
  {
   "cell_type": "code",
   "execution_count": 2,
   "id": "0722da6d",
   "metadata": {},
   "outputs": [],
   "source": [
    "def data_converter(index,labels):\n",
    "    temp=np.zeros(len(labels))\n",
    "    if index==0:\n",
    "        for i in range(len(labels)):\n",
    "            if labels[i]==0:\n",
    "                temp[i]=1\n",
    "            else:\n",
    "                temp[i]=0\n",
    "    elif index==1:\n",
    "        for i in range(len(labels)):\n",
    "            if labels[i]==1:\n",
    "                temp[i]=1\n",
    "            else:\n",
    "                temp[i]=0\n",
    "    else:\n",
    "        for i in range(len(labels)):\n",
    "            if labels[i]==2:\n",
    "                temp[i]=1\n",
    "            else:\n",
    "                temp[i]=0\n",
    "    return temp"
   ]
  },
  {
   "cell_type": "code",
   "execution_count": 3,
   "id": "d73e35fa",
   "metadata": {},
   "outputs": [
    {
     "data": {
      "text/plain": [
       "(array([[5.1, 3.5, 1.4, 0.2],\n",
       "        [4.9, 3. , 1.4, 0.2],\n",
       "        [4.7, 3.2, 1.3, 0.2]]),\n",
       " array([0, 0, 0]),\n",
       " array(['setosa', 'versicolor', 'virginica'], dtype='<U10'))"
      ]
     },
     "execution_count": 3,
     "metadata": {},
     "output_type": "execute_result"
    }
   ],
   "source": [
    "data=datasets.load_iris()\n",
    "x,y,names=data['data'],data['target'],data[\"target_names\"]\n",
    "x[:3],y[:3],names"
   ]
  },
  {
   "cell_type": "markdown",
   "id": "ab4f2415",
   "metadata": {},
   "source": [
    "# Data Preparation for Setosa "
   ]
  },
  {
   "cell_type": "code",
   "execution_count": 4,
   "id": "35bd761f",
   "metadata": {},
   "outputs": [
    {
     "name": "stdout",
     "output_type": "stream",
     "text": [
      "[1. 1. 1. 1. 1. 1. 1. 1. 1. 1. 1. 1. 1. 1. 1. 1. 1. 1. 1. 1. 1. 1. 1. 1.\n",
      " 1. 1. 1. 1. 1. 1. 1. 1. 1. 1. 1. 1. 1. 1. 1. 1. 1. 1. 1. 1. 1. 1. 1. 1.\n",
      " 1. 1. 0. 0. 0. 0. 0. 0. 0. 0. 0. 0. 0. 0. 0. 0. 0. 0. 0. 0. 0. 0. 0. 0.\n",
      " 0. 0. 0. 0. 0. 0. 0. 0. 0. 0. 0. 0. 0. 0. 0. 0. 0. 0. 0. 0. 0. 0. 0. 0.\n",
      " 0. 0. 0. 0. 0. 0. 0. 0. 0. 0. 0. 0. 0. 0. 0. 0. 0. 0. 0. 0. 0. 0. 0. 0.\n",
      " 0. 0. 0. 0. 0. 0. 0. 0. 0. 0. 0. 0. 0. 0. 0. 0. 0. 0. 0. 0. 0. 0. 0. 0.\n",
      " 0. 0. 0. 0. 0. 0.]\n"
     ]
    }
   ],
   "source": [
    "Setosa_y=data_converter(0,y)\n",
    "print(Setosa_y)"
   ]
  },
  {
   "cell_type": "code",
   "execution_count": 5,
   "id": "c23ea275",
   "metadata": {},
   "outputs": [],
   "source": [
    "Setosa_x_train,Setosa_x_test,Setosa_y_train,Setosa_y_test=train_test_split(x,Setosa_y,test_size=0.1,shuffle=True)"
   ]
  },
  {
   "cell_type": "code",
   "execution_count": 6,
   "id": "04fd9cf7",
   "metadata": {},
   "outputs": [
    {
     "name": "stdout",
     "output_type": "stream",
     "text": [
      "(135, 4)\n",
      "(15, 4)\n",
      "(135,)\n",
      "(15,)\n"
     ]
    }
   ],
   "source": [
    "print(Setosa_x_train.shape)\n",
    "print(Setosa_x_test.shape)\n",
    "print(Setosa_y_train.shape)\n",
    "print(Setosa_y_test.shape)"
   ]
  },
  {
   "cell_type": "markdown",
   "id": "ec5b919d",
   "metadata": {},
   "source": [
    "# Data Preparation for Versicolor "
   ]
  },
  {
   "cell_type": "code",
   "execution_count": 7,
   "id": "cfd718a4",
   "metadata": {},
   "outputs": [
    {
     "data": {
      "text/plain": [
       "array([0., 0., 0., 0., 0., 0., 0., 0., 0., 0., 0., 0., 0., 0., 0., 0., 0.,\n",
       "       0., 0., 0., 0., 0., 0., 0., 0., 0., 0., 0., 0., 0., 0., 0., 0., 0.,\n",
       "       0., 0., 0., 0., 0., 0., 0., 0., 0., 0., 0., 0., 0., 0., 0., 0., 1.,\n",
       "       1., 1., 1., 1., 1., 1., 1., 1., 1., 1., 1., 1., 1., 1., 1., 1., 1.,\n",
       "       1., 1., 1., 1., 1., 1., 1., 1., 1., 1., 1., 1., 1., 1., 1., 1., 1.,\n",
       "       1., 1., 1., 1., 1., 1., 1., 1., 1., 1., 1., 1., 1., 1., 1., 0., 0.,\n",
       "       0., 0., 0., 0., 0., 0., 0., 0., 0., 0., 0., 0., 0., 0., 0., 0., 0.,\n",
       "       0., 0., 0., 0., 0., 0., 0., 0., 0., 0., 0., 0., 0., 0., 0., 0., 0.,\n",
       "       0., 0., 0., 0., 0., 0., 0., 0., 0., 0., 0., 0., 0., 0.])"
      ]
     },
     "execution_count": 7,
     "metadata": {},
     "output_type": "execute_result"
    }
   ],
   "source": [
    "Versicolor_y=data_converter(1,y)\n",
    "Versicolor_y"
   ]
  },
  {
   "cell_type": "code",
   "execution_count": 8,
   "id": "9f6135bf",
   "metadata": {},
   "outputs": [],
   "source": [
    "Versicolor_x_train,Versicolor_x_test,Versicolor_y_train,Versicolor_y_test=train_test_split(x,Versicolor_y,test_size=0.1,shuffle=True)"
   ]
  },
  {
   "cell_type": "code",
   "execution_count": 9,
   "id": "d28816d4",
   "metadata": {},
   "outputs": [
    {
     "name": "stdout",
     "output_type": "stream",
     "text": [
      "(135, 4)\n",
      "(15, 4)\n",
      "(135,)\n",
      "(15,)\n"
     ]
    }
   ],
   "source": [
    "print(Versicolor_x_train.shape)\n",
    "print(Versicolor_x_test.shape)\n",
    "print(Versicolor_y_train.shape)\n",
    "print(Versicolor_y_test.shape)"
   ]
  },
  {
   "cell_type": "markdown",
   "id": "52f732cc",
   "metadata": {},
   "source": [
    "# Data Preparation for Virginica"
   ]
  },
  {
   "cell_type": "code",
   "execution_count": 10,
   "id": "4178023b",
   "metadata": {},
   "outputs": [
    {
     "data": {
      "text/plain": [
       "array([0., 0., 0., 0., 0., 0., 0., 0., 0., 0., 0., 0., 0., 0., 0., 0., 0.,\n",
       "       0., 0., 0., 0., 0., 0., 0., 0., 0., 0., 0., 0., 0., 0., 0., 0., 0.,\n",
       "       0., 0., 0., 0., 0., 0., 0., 0., 0., 0., 0., 0., 0., 0., 0., 0., 0.,\n",
       "       0., 0., 0., 0., 0., 0., 0., 0., 0., 0., 0., 0., 0., 0., 0., 0., 0.,\n",
       "       0., 0., 0., 0., 0., 0., 0., 0., 0., 0., 0., 0., 0., 0., 0., 0., 0.,\n",
       "       0., 0., 0., 0., 0., 0., 0., 0., 0., 0., 0., 0., 0., 0., 0., 1., 1.,\n",
       "       1., 1., 1., 1., 1., 1., 1., 1., 1., 1., 1., 1., 1., 1., 1., 1., 1.,\n",
       "       1., 1., 1., 1., 1., 1., 1., 1., 1., 1., 1., 1., 1., 1., 1., 1., 1.,\n",
       "       1., 1., 1., 1., 1., 1., 1., 1., 1., 1., 1., 1., 1., 1.])"
      ]
     },
     "execution_count": 10,
     "metadata": {},
     "output_type": "execute_result"
    }
   ],
   "source": [
    "Virginica_y=data_converter(2,y)\n",
    "Virginica_y"
   ]
  },
  {
   "cell_type": "code",
   "execution_count": 11,
   "id": "80af6dab",
   "metadata": {},
   "outputs": [],
   "source": [
    "Virginica_x_train,Virginica_x_test,Virginica_y_train,Virginica_y_test=train_test_split(x,Virginica_y,test_size=0.1,shuffle=True)"
   ]
  },
  {
   "cell_type": "code",
   "execution_count": 12,
   "id": "19592f70",
   "metadata": {},
   "outputs": [
    {
     "name": "stdout",
     "output_type": "stream",
     "text": [
      "(135, 4)\n",
      "(15, 4)\n",
      "(135,)\n",
      "(15,)\n"
     ]
    }
   ],
   "source": [
    "print(Virginica_x_train.shape)\n",
    "print(Virginica_x_test.shape)\n",
    "print(Virginica_y_train.shape)\n",
    "print(Virginica_y_test.shape)"
   ]
  },
  {
   "cell_type": "markdown",
   "id": "38943fc1",
   "metadata": {},
   "source": [
    "# Class of Logistic Regression"
   ]
  },
  {
   "cell_type": "code",
   "execution_count": 58,
   "id": "3a7cf8fe",
   "metadata": {},
   "outputs": [],
   "source": [
    "class Logistic_Regression:\n",
    "    \n",
    "    def __init__(self):\n",
    "        # to store my model weights or theta's .\n",
    "        self.weights=0\n",
    "        # to store the output from the hypothesis without the Sigmoid Function .\n",
    "        self.hyp_holder=0\n",
    "        # to store the y_predicted after appllying the Sigmoid Function .\n",
    "        self.y_predicted=0\n",
    "        # to store the derivative of the Cost Function .\n",
    "        self.derivative=0\n",
    "        # to store the loss of the model \n",
    "        self.loss=0\n",
    "        \n",
    "    # This function initializes random weights based on the number of features of the dataset .\n",
    "    def initialize_weights(self,shape):\n",
    "         self.weights=np.random.random(shape+1)\n",
    "            \n",
    "    # This function calculates the hypothesis .\n",
    "    # It multiples the features with the model weights and saves them in hyp_holder variable .\n",
    "    def Hypothesis(self,x):\n",
    "        x=np.hstack((x,np.ones(x.shape[0]).reshape(-1,1)))\n",
    "        answer=np.dot(x,self.weights.reshape(-1,1))\n",
    "        self.hyp_holder=answer\n",
    "\n",
    "    # This function acts as the Sigmoid Activation Function .\n",
    "    # It passes the output of our model hypothesis into the following equation  : 1 / 1 + e^(-h(x)) \n",
    "    def Activation_Function(self):\n",
    "        self.y_predicted=1 / (1 + np.exp(-(self.hyp_holder)))\n",
    " \n",
    "    # This is the Cost Function . \n",
    "    # It calculates our models total loss\n",
    "    def Cost_Function(self,y):\n",
    "        y=y.reshape(-1,1)\n",
    "        t1=y*np.log(self.y_predicted)\n",
    "        t2=(1-y)*np.log(1-self.y_predicted)\n",
    "        self.loss=-np.mean(t1+t2)\n",
    "    \n",
    "    # This Function calculates the derivative of the Cost Function \n",
    "    # The formula is a generalized formula \n",
    "    def Derivative(self,x,y):\n",
    "        x=np.hstack((x,np.ones(x.shape[0]).reshape(-1,1)))\n",
    "        answer=x*(y.reshape(-1,1)-self.y_predicted)\n",
    "        self.derivative=(np.sum(answer,axis=0)/-len(x))\n",
    "        \n",
    "    # This function updates the weights of the model \n",
    "    # We perform the Gradient Descent in order to update the weights\n",
    "    def Gradient_Descent(self,learning_rate):        \n",
    "        self.weights = self.weights - learning_rate*self.derivative\n",
    "   \n",
    "    # This is the training function \n",
    "    # It accepts the feauters and their labels \n",
    "    def train(self,x,y,lr=0.00001,max_iter=20000,loss_iter=1000):\n",
    "        self.initialize_weights(x.shape[1])\n",
    "        default_iterations=5000\n",
    "        c=0\n",
    "        for i in range(max_iter):\n",
    "            self.Hypothesis(x)\n",
    "            self.Activation_Function()\n",
    "            if i%loss_iter==0:\n",
    "                self.Cost_Function(y)\n",
    "                print(i,\"-th iteration loss : \",self.loss)\n",
    "            old_weights=self.weights\n",
    "            self.Derivative(x,y)\n",
    "            self.Gradient_Descent(lr)\n",
    "            c=c+1\n",
    "            if max_iter!=default_iterations:\n",
    "                if (old_weights == self.weights).all():\n",
    "                    print(\"\\n The Weights have stopped updating . Terminating Training. \\n\")\n",
    "                    break\n",
    "                if  c==max_iter:\n",
    "                    print(\"\\n Iterations Completed . Terminating Training. \\n\")\n",
    "                    break\n",
    "            if max_iter==default_iterations:\n",
    "                if c==default_iterations:\n",
    "                    print(\"\\n Iterations Completed . Terminating Training. \\n\")\n",
    "                    break\n",
    "    \n",
    "    def Predict_Class(self,x):\n",
    "        self.Hypothesis(x)\n",
    "        self.Activation_Function()\n",
    "        \n",
    "        if len(self.y_predicted)==1:\n",
    "            if self.y_predicted>0.5:\n",
    "                return 1\n",
    "            else:\n",
    "                return 0\n",
    "        else:\n",
    "            temp=np.zeros(len(self.y_predicted))\n",
    "            for i in range(len(self.y_predicted)):\n",
    "                if self.y_predicted[i]>0.5:\n",
    "                    temp[i]=1\n",
    "            return temp\n",
    "        \n",
    "    # This function returns the probabillites of the test values\n",
    "    # Whether it belongs to a particular class or not\n",
    "    def Predict_Confidence(self,x):\n",
    "            self.Hypothesis(x)\n",
    "            self.Activation_Function()\n",
    "            return self.y_predicted\n",
    "        \n",
    "    # This function returns the learned weights of the model \n",
    "    def Get_Weights(self):\n",
    "        return self.weights\n",
    "    "
   ]
  },
  {
   "cell_type": "markdown",
   "id": "a7fd1a40",
   "metadata": {},
   "source": [
    "# Training and Testing for Setosa Only"
   ]
  },
  {
   "cell_type": "code",
   "execution_count": 59,
   "id": "9de51f4d",
   "metadata": {},
   "outputs": [],
   "source": [
    "LR_Setosa=Logistic_Regression()"
   ]
  },
  {
   "cell_type": "code",
   "execution_count": 60,
   "id": "08717fca",
   "metadata": {},
   "outputs": [
    {
     "name": "stdout",
     "output_type": "stream",
     "text": [
      "0 -th iteration loss :  3.5889102146781813\n",
      "500 -th iteration loss :  0.10564801453958013\n",
      "1000 -th iteration loss :  0.05806121641286745\n",
      "1500 -th iteration loss :  0.04048520811359538\n",
      "2000 -th iteration loss :  0.03128643362483926\n",
      "2500 -th iteration loss :  0.025602898082117603\n",
      "3000 -th iteration loss :  0.02173046444731702\n",
      "3500 -th iteration loss :  0.018915804486762524\n",
      "4000 -th iteration loss :  0.016773766543352213\n",
      "4500 -th iteration loss :  0.015086616887342356\n",
      "\n",
      " Iterations Completed . Terminating Training. \n",
      "\n"
     ]
    }
   ],
   "source": [
    "LR_Setosa.train(x,Setosa_y,0.01,5000,500)"
   ]
  },
  {
   "cell_type": "code",
   "execution_count": 61,
   "id": "0c80b475",
   "metadata": {},
   "outputs": [],
   "source": [
    "answers=LR_Setosa.Predict_Class(Setosa_x_test)\n",
    "accuracy=(sum(answers==Setosa_y_test)/len(Setosa_y_test))*100"
   ]
  },
  {
   "cell_type": "code",
   "execution_count": 62,
   "id": "61f0cb01",
   "metadata": {},
   "outputs": [
    {
     "name": "stdout",
     "output_type": "stream",
     "text": [
      "Logistic Regression for Setosa :  100.0\n"
     ]
    }
   ],
   "source": [
    "print(\"Logistic Regression for Setosa : \",accuracy)"
   ]
  },
  {
   "cell_type": "markdown",
   "id": "daabf58f",
   "metadata": {},
   "source": [
    "# Training and Testing for Versicolor Only"
   ]
  },
  {
   "cell_type": "code",
   "execution_count": 63,
   "id": "1a1c5a54",
   "metadata": {},
   "outputs": [],
   "source": [
    "LR_Versicolor=Logistic_Regression()"
   ]
  },
  {
   "cell_type": "code",
   "execution_count": 64,
   "id": "a4c6cbcb",
   "metadata": {},
   "outputs": [
    {
     "name": "stdout",
     "output_type": "stream",
     "text": [
      "0 -th iteration loss :  3.0411136296313335\n",
      "500 -th iteration loss :  0.604998665906436\n",
      "1000 -th iteration loss :  0.5912405688417969\n",
      "1500 -th iteration loss :  0.5800558165527578\n",
      "2000 -th iteration loss :  0.5706309844283991\n",
      "2500 -th iteration loss :  0.5626511781127967\n",
      "3000 -th iteration loss :  0.5558690169038097\n",
      "3500 -th iteration loss :  0.5500800988782144\n",
      "4000 -th iteration loss :  0.5451160198427746\n",
      "4500 -th iteration loss :  0.5408384588681343\n",
      "\n",
      " Iterations Completed . Terminating Training. \n",
      "\n"
     ]
    }
   ],
   "source": [
    "LR_Versicolor.train(x,Versicolor_y,0.01,5000,500)"
   ]
  },
  {
   "cell_type": "code",
   "execution_count": 65,
   "id": "0d1faf94",
   "metadata": {},
   "outputs": [],
   "source": [
    "answers=LR_Versicolor.Predict_Class(Versicolor_x_test)\n",
    "accuracy=(sum(answers==Versicolor_y_test)/len(Versicolor_y_test))*100"
   ]
  },
  {
   "cell_type": "code",
   "execution_count": 66,
   "id": "c37a43ac",
   "metadata": {},
   "outputs": [
    {
     "name": "stdout",
     "output_type": "stream",
     "text": [
      "Logistic Regression for Versicolor :  80.0\n"
     ]
    }
   ],
   "source": [
    "print(\"Logistic Regression for Versicolor : \",accuracy)"
   ]
  },
  {
   "cell_type": "markdown",
   "id": "b90dc0a7",
   "metadata": {},
   "source": [
    "# Training and Testing for Virginica Only"
   ]
  },
  {
   "cell_type": "code",
   "execution_count": 67,
   "id": "faa8df66",
   "metadata": {},
   "outputs": [],
   "source": [
    "LR_Virginica=Logistic_Regression()"
   ]
  },
  {
   "cell_type": "code",
   "execution_count": 68,
   "id": "c73e0fe8",
   "metadata": {},
   "outputs": [
    {
     "name": "stdout",
     "output_type": "stream",
     "text": [
      "0 -th iteration loss :  2.5660426323299728\n",
      "500 -th iteration loss :  0.3268903816009539\n",
      "1000 -th iteration loss :  0.2756057443261761\n",
      "1500 -th iteration loss :  0.24663486514006655\n",
      "2000 -th iteration loss :  0.22621468117959873\n",
      "2500 -th iteration loss :  0.21052115868155763\n",
      "3000 -th iteration loss :  0.19790100736425226\n",
      "3500 -th iteration loss :  0.18745832919867264\n",
      "4000 -th iteration loss :  0.17864025808641537\n",
      "4500 -th iteration loss :  0.17107707475401532\n",
      "\n",
      " Iterations Completed . Terminating Training. \n",
      "\n"
     ]
    }
   ],
   "source": [
    "LR_Virginica.train(x,Virginica_y,0.01,5000,500)"
   ]
  },
  {
   "cell_type": "code",
   "execution_count": 69,
   "id": "5552973e",
   "metadata": {},
   "outputs": [],
   "source": [
    "answers=LR_Virginica.Predict_Class(Virginica_x_test)\n",
    "accuracy=(sum(answers==Virginica_y_test)/len(Virginica_y_test))*100"
   ]
  },
  {
   "cell_type": "code",
   "execution_count": 70,
   "id": "f00d8ff8",
   "metadata": {},
   "outputs": [
    {
     "name": "stdout",
     "output_type": "stream",
     "text": [
      "Logistic Regression for Virginica :  100.0\n"
     ]
    }
   ],
   "source": [
    "print(\"Logistic Regression for Virginica : \",accuracy)"
   ]
  },
  {
   "cell_type": "markdown",
   "id": "f7d23339",
   "metadata": {},
   "source": [
    "# Collective Checking"
   ]
  },
  {
   "cell_type": "code",
   "execution_count": 71,
   "id": "881fbc5c",
   "metadata": {},
   "outputs": [],
   "source": [
    "a=list(Setosa_x_test)\n",
    "b=list(Versicolor_x_test)\n",
    "c=list(Virginica_x_test)"
   ]
  },
  {
   "cell_type": "code",
   "execution_count": 72,
   "id": "19449fd8",
   "metadata": {},
   "outputs": [],
   "source": [
    "BIG_TEST=[i for i in a+b+c]\n",
    "BIG_TEST=np.array(BIG_TEST)"
   ]
  },
  {
   "cell_type": "code",
   "execution_count": 73,
   "id": "3eb5ef9e",
   "metadata": {},
   "outputs": [
    {
     "data": {
      "text/plain": [
       "array([[6. , 3.4, 4.5, 1.6],\n",
       "       [5.1, 3.8, 1.6, 0.2],\n",
       "       [6.3, 2.7, 4.9, 1.8],\n",
       "       [6.2, 2.2, 4.5, 1.5],\n",
       "       [6.1, 2.9, 4.7, 1.4],\n",
       "       [6.3, 2.5, 4.9, 1.5],\n",
       "       [6.3, 2.9, 5.6, 1.8],\n",
       "       [4.8, 3. , 1.4, 0.3],\n",
       "       [5.7, 3. , 4.2, 1.2],\n",
       "       [6.7, 3.1, 4.7, 1.5]])"
      ]
     },
     "execution_count": 73,
     "metadata": {},
     "output_type": "execute_result"
    }
   ],
   "source": [
    "BIG_TEST[:10]"
   ]
  },
  {
   "cell_type": "code",
   "execution_count": 74,
   "id": "173885fa",
   "metadata": {},
   "outputs": [],
   "source": [
    "SCORE_1=LR_Setosa.Predict_Confidence(BIG_TEST)\n",
    "SCORE_2=LR_Versicolor.Predict_Confidence(BIG_TEST)\n",
    "SCORE_3=LR_Virginica.Predict_Confidence(BIG_TEST)"
   ]
  },
  {
   "cell_type": "code",
   "execution_count": 75,
   "id": "7dada2a5",
   "metadata": {},
   "outputs": [],
   "source": [
    "A=[]\n",
    "O=[]\n",
    "a=data[\"data\"]\n",
    "b=data[\"target\"]\n",
    "for i in range(len(BIG_TEST)):\n",
    "        A.append([SCORE_1[i],SCORE_2[i],SCORE_3[i]].index(max([SCORE_1[i],SCORE_2[i],SCORE_3[i]])))\n",
    "        for j in range(len(b)):\n",
    "            if all(BIG_TEST[i]==a[j]):\n",
    "                O.append(b[j])"
   ]
  },
  {
   "cell_type": "code",
   "execution_count": 76,
   "id": "638f260c",
   "metadata": {},
   "outputs": [
    {
     "data": {
      "text/plain": [
       "45"
      ]
     },
     "execution_count": 76,
     "metadata": {},
     "output_type": "execute_result"
    }
   ],
   "source": [
    "len(A)"
   ]
  },
  {
   "cell_type": "code",
   "execution_count": 77,
   "id": "71d30500",
   "metadata": {},
   "outputs": [
    {
     "data": {
      "text/plain": [
       "45"
      ]
     },
     "execution_count": 77,
     "metadata": {},
     "output_type": "execute_result"
    }
   ],
   "source": [
    "len(O)"
   ]
  },
  {
   "cell_type": "code",
   "execution_count": 78,
   "id": "29f798a1",
   "metadata": {},
   "outputs": [],
   "source": [
    "accuracy=(sum(np.array(A)==np.array(O))/len(A))*100"
   ]
  },
  {
   "cell_type": "code",
   "execution_count": 79,
   "id": "be9bbdfe",
   "metadata": {},
   "outputs": [
    {
     "name": "stdout",
     "output_type": "stream",
     "text": [
      "Logistic Regression Combined :  95.55555555555556\n"
     ]
    }
   ],
   "source": [
    "print(\"Logistic Regression Combined : \",accuracy)"
   ]
  },
  {
   "cell_type": "code",
   "execution_count": null,
   "id": "0362cb7d",
   "metadata": {},
   "outputs": [],
   "source": []
  }
 ],
 "metadata": {
  "kernelspec": {
   "display_name": "Python 3 (ipykernel)",
   "language": "python",
   "name": "python3"
  },
  "language_info": {
   "codemirror_mode": {
    "name": "ipython",
    "version": 3
   },
   "file_extension": ".py",
   "mimetype": "text/x-python",
   "name": "python",
   "nbconvert_exporter": "python",
   "pygments_lexer": "ipython3",
   "version": "3.11.4"
  }
 },
 "nbformat": 4,
 "nbformat_minor": 5
}
