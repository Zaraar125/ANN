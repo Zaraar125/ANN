{
 "cells": [
  {
   "cell_type": "code",
   "execution_count": 1,
   "metadata": {
    "execution": {
     "iopub.execute_input": "2024-02-04T08:34:42.373422Z",
     "iopub.status.busy": "2024-02-04T08:34:42.372698Z",
     "iopub.status.idle": "2024-02-04T08:34:42.410952Z",
     "shell.execute_reply": "2024-02-04T08:34:42.409875Z",
     "shell.execute_reply.started": "2024-02-04T08:34:42.373377Z"
    }
   },
   "outputs": [],
   "source": [
    "import numpy as np\n",
    "import pandas as pd\n",
    "from sklearn.preprocessing import StandardScaler"
   ]
  },
  {
   "cell_type": "markdown",
   "metadata": {},
   "source": [
    "# Testing Datasets"
   ]
  },
  {
   "cell_type": "code",
   "execution_count": 2,
   "metadata": {
    "execution": {
     "iopub.execute_input": "2024-02-04T08:36:12.084089Z",
     "iopub.status.busy": "2024-02-04T08:36:12.083652Z",
     "iopub.status.idle": "2024-02-04T08:36:12.103671Z",
     "shell.execute_reply": "2024-02-04T08:36:12.102618Z",
     "shell.execute_reply.started": "2024-02-04T08:36:12.084057Z"
    }
   },
   "outputs": [],
   "source": [
    "# X=pd.read_csv(\"Student_Performance.csv\")\n",
    "# X['Extracurricular Activities']=X['Extracurricular Activities'].map({'Yes':1,\"No\":0})\n",
    "# print(X.head())\n",
    "# y,X=np.asarray(X['Performance Index'],dtype=np.float16),np.asarray(X.drop('Performance Index',axis=1),dtype=np.float16)\n",
    "\n",
    "# X['y']=np.zeros(X.shape[0])\n",
    "# for i in X.columns[:-1]:\n",
    "#     X['y']=X['y']+X[i]\n",
    "# X=X[X.columns[-2:]]"
   ]
  },
  {
   "cell_type": "code",
   "execution_count": 3,
   "metadata": {
    "execution": {
     "iopub.execute_input": "2024-02-02T15:44:55.797773Z",
     "iopub.status.busy": "2024-02-02T15:44:55.797310Z",
     "iopub.status.idle": "2024-02-02T15:44:55.815474Z",
     "shell.execute_reply": "2024-02-02T15:44:55.813534Z",
     "shell.execute_reply.started": "2024-02-02T15:44:55.797737Z"
    }
   },
   "outputs": [],
   "source": [
    "# X=pd.read_csv(\"1.01. Simple linear regression.csv\")\n",
    "# print(X.head())\n",
    "# y,X=np.asarray(X['GPA'],dtype=np.float16),np.asarray(X['SAT'],dtype=np.float16)\n"
   ]
  },
  {
   "cell_type": "code",
   "execution_count": 4,
   "metadata": {
    "_cell_guid": "b1076dfc-b9ad-4769-8c92-a6c4dae69d19",
    "_uuid": "8f2839f25d086af736a60e9eeb907d3b93b6e0e5",
    "execution": {
     "iopub.execute_input": "2024-02-03T15:17:38.902689Z",
     "iopub.status.busy": "2024-02-03T15:17:38.902282Z",
     "iopub.status.idle": "2024-02-03T15:17:38.938525Z",
     "shell.execute_reply": "2024-02-03T15:17:38.937426Z",
     "shell.execute_reply.started": "2024-02-03T15:17:38.902657Z"
    }
   },
   "outputs": [
    {
     "name": "stdout",
     "output_type": "stream",
     "text": [
      "      x          y\n",
      "0  24.0  21.549452\n",
      "1  50.0  47.464463\n",
      "2  15.0  17.218656\n",
      "3  38.0  36.586398\n",
      "4  87.0  87.288984\n"
     ]
    }
   ],
   "source": [
    "X=pd.read_csv(\"train.csv\")\n",
    "print(X.head())\n",
    "X.dropna(inplace=True)\n",
    "y,X=np.asarray(X['y'],dtype=np.float16),np.asarray(X['x'],dtype=np.float16)\n"
   ]
  },
  {
   "cell_type": "code",
   "execution_count": 5,
   "metadata": {
    "execution": {
     "iopub.execute_input": "2024-02-04T08:40:36.013389Z",
     "iopub.status.busy": "2024-02-04T08:40:36.012972Z",
     "iopub.status.idle": "2024-02-04T08:40:36.017874Z",
     "shell.execute_reply": "2024-02-04T08:40:36.017046Z",
     "shell.execute_reply.started": "2024-02-04T08:40:36.013358Z"
    }
   },
   "outputs": [],
   "source": [
    "if X.ndim==1:\n",
    "    X=X.reshape(-1,1)\n",
    "y=y.reshape(-1,1)"
   ]
  },
  {
   "cell_type": "code",
   "execution_count": 6,
   "metadata": {
    "execution": {
     "iopub.execute_input": "2024-02-04T08:40:36.747004Z",
     "iopub.status.busy": "2024-02-04T08:40:36.746576Z",
     "iopub.status.idle": "2024-02-04T08:40:36.752345Z",
     "shell.execute_reply": "2024-02-04T08:40:36.751317Z",
     "shell.execute_reply.started": "2024-02-04T08:40:36.746956Z"
    }
   },
   "outputs": [
    {
     "name": "stdout",
     "output_type": "stream",
     "text": [
      "(699, 1)\n",
      "(699, 1)\n"
     ]
    }
   ],
   "source": [
    "print(X.shape)\n",
    "print(y.shape)"
   ]
  },
  {
   "cell_type": "markdown",
   "metadata": {},
   "source": [
    "# Linear Regression Class"
   ]
  },
  {
   "cell_type": "code",
   "execution_count": 7,
   "metadata": {
    "execution": {
     "iopub.execute_input": "2024-02-04T08:40:38.774656Z",
     "iopub.status.busy": "2024-02-04T08:40:38.773544Z",
     "iopub.status.idle": "2024-02-04T08:40:38.786777Z",
     "shell.execute_reply": "2024-02-04T08:40:38.785776Z",
     "shell.execute_reply.started": "2024-02-04T08:40:38.774611Z"
    }
   },
   "outputs": [],
   "source": [
    "class LinearRegression:\n",
    "    \n",
    "    def __init__(self):\n",
    "       \n",
    "        self.weights=0\n",
    "        self.y_pred=0\n",
    "        self.loss=0\n",
    "        self.d=0\n",
    "    \n",
    "    def set_weights(self,Feature_shape):\n",
    "        \n",
    "        self.weights=np.random.rand(Feature_shape+1).reshape(1,-1)\n",
    "    \n",
    "    def Hypothesis(self,X):\n",
    "       \n",
    "        temp=np.ones(X.shape[0]).reshape(-1,1)\n",
    "        \n",
    "        X=np.hstack((X,temp))        \n",
    "        \n",
    "        answer=np.dot(X,self.weights.reshape(-1,1))\n",
    "        \n",
    "        self.y_pred=answer\n",
    "        \n",
    "        return answer\n",
    "   \n",
    "    def Cost_Function(self,y):\n",
    "        \n",
    "        self.loss=np.mean(np.sum(np.square(y-self.y_pred)))\n",
    "        \n",
    "        return self.loss\n",
    "    \n",
    "    def Derivative(self,X,y):\n",
    "        \n",
    "        temp=np.ones(X.shape[0]).reshape(-1,1)\n",
    "        \n",
    "        X=np.hstack((X,temp))\n",
    "        \n",
    "        derivative= -2*(np.sum((y-self.y_pred)*X,axis=0))/X.shape[0]\n",
    "        \n",
    "        self.d=derivative\n",
    "        \n",
    "        return self.d\n",
    "    \n",
    "    def Gradient_Descent(self,LR):\n",
    "        \n",
    "        self.weights=self.weights-LR*self.d\n",
    "        \n",
    "    def Train(self,X,y,LR=0.001,iterations=50000,loss_time=1000):\n",
    "        \n",
    "        default_iterations=5000\n",
    "        \n",
    "        self.set_weights(X.shape[1])\n",
    "        \n",
    "        c=0\n",
    "        while(1):\n",
    "            \n",
    "            self.Hypothesis(X)\n",
    "            \n",
    "            if c%loss_time==0:\n",
    "                \n",
    "                self.Cost_Function(X)\n",
    "                \n",
    "                print(c,' Iteration Loss :',self.loss)\n",
    "            \n",
    "            old_weights=self.weights\n",
    "            \n",
    "            self.Derivative(X,y)\n",
    "            \n",
    "            self.Gradient_Descent(LR)\n",
    "            \n",
    "            c=c+1\n",
    "            \n",
    "            if iterations!=default_iterations:\n",
    "                \n",
    "                if (old_weights == self.weights).all():\n",
    "\n",
    "                    print(\"\\n The Weights have stopped updating . Terminating Training. \\n\")\n",
    "            \n",
    "                    break\n",
    "                if  c==iterations:\n",
    "\n",
    "                    print(\"\\n Iterations Completed . Terminating Training. \\n\")\n",
    "\n",
    "                    break\n",
    "            if iterations==default_iterations:\n",
    "                \n",
    "                if c==default_iterations:\n",
    "                \n",
    "                    print(\"\\n Iterations Completed . Terminating Training. \\n\")\n",
    "\n",
    "                    break\n",
    "            \n",
    "            \n",
    "    def Predict(self,X):\n",
    "        \n",
    "        return self.Hypothesis(X)\n",
    "    \n",
    "    def Get_Weights(self):\n",
    "    \n",
    "        return self.weights\n",
    "    "
   ]
  },
  {
   "cell_type": "code",
   "execution_count": 8,
   "metadata": {
    "execution": {
     "iopub.execute_input": "2024-02-04T08:50:25.047110Z",
     "iopub.status.busy": "2024-02-04T08:50:25.046652Z",
     "iopub.status.idle": "2024-02-04T08:50:25.052042Z",
     "shell.execute_reply": "2024-02-04T08:50:25.050932Z",
     "shell.execute_reply.started": "2024-02-04T08:50:25.047065Z"
    }
   },
   "outputs": [],
   "source": [
    "Lr=LinearRegression()"
   ]
  },
  {
   "cell_type": "markdown",
   "metadata": {},
   "source": [
    "# Traning on Simple Linear Regression Data (The Train and Test csv Found from Kaggle)"
   ]
  },
  {
   "cell_type": "code",
   "execution_count": 9,
   "metadata": {
    "execution": {
     "iopub.execute_input": "2024-02-04T09:13:48.834281Z",
     "iopub.status.busy": "2024-02-04T09:13:48.833879Z",
     "iopub.status.idle": "2024-02-04T09:33:52.767716Z",
     "shell.execute_reply": "2024-02-04T09:33:52.766451Z",
     "shell.execute_reply.started": "2024-02-04T09:13:48.834249Z"
    }
   },
   "outputs": [
    {
     "name": "stdout",
     "output_type": "stream",
     "text": [
      "0  Iteration Loss : 250458.78739564837\n",
      "5000  Iteration Loss : 27.743980113472375\n",
      "10000  Iteration Loss : 26.138501613208966\n",
      "15000  Iteration Loss : 24.622609232202468\n",
      "20000  Iteration Loss : 23.191647760473295\n",
      "25000  Iteration Loss : 21.841196431071417\n",
      "30000  Iteration Loss : 20.567057286973018\n",
      "35000  Iteration Loss : 19.36524412101389\n",
      "40000  Iteration Loss : 18.23197196078129\n",
      "45000  Iteration Loss : 17.163647071671996\n",
      "50000  Iteration Loss : 16.15685745269718\n",
      "55000  Iteration Loss : 15.208363800839228\n",
      "60000  Iteration Loss : 14.315090920960492\n",
      "65000  Iteration Loss : 13.474119559358634\n",
      "70000  Iteration Loss : 12.682678640196816\n",
      "75000  Iteration Loss : 11.938137884998078\n",
      "80000  Iteration Loss : 11.23800079639058\n",
      "85000  Iteration Loss : 10.579897988206078\n",
      "90000  Iteration Loss : 9.961580844928976\n",
      "95000  Iteration Loss : 9.38091549428525\n",
      "\n",
      " Iterations Completed . Terminating Training. \n",
      "\n"
     ]
    }
   ],
   "source": [
    "Lr.Train(X,y,0.00001,100000,5000)"
   ]
  },
  {
   "cell_type": "markdown",
   "metadata": {},
   "source": [
    "# Checking"
   ]
  },
  {
   "cell_type": "code",
   "execution_count": 10,
   "metadata": {},
   "outputs": [
    {
     "name": "stdout",
     "output_type": "stream",
     "text": [
      "    x          y\n",
      "0  77  79.775152\n",
      "1  21  23.177279\n",
      "2  22  25.609262\n",
      "3  20  17.857388\n",
      "4  36  41.849864\n"
     ]
    }
   ],
   "source": [
    "test=pd.read_csv(\"test.csv\")\n",
    "print(test.head())\n",
    "test.dropna(inplace=True)\n",
    "y_test,X_test=np.asarray(test['y'],dtype=np.float16),np.asarray(test['x'],dtype=np.float16)"
   ]
  },
  {
   "cell_type": "code",
   "execution_count": 11,
   "metadata": {},
   "outputs": [],
   "source": [
    "if X_test.ndim==1:\n",
    "    X_test=X_test.reshape(-1,1)\n",
    "y_test=y_test.reshape(-1,1)"
   ]
  },
  {
   "cell_type": "markdown",
   "metadata": {},
   "source": [
    "# Lr.Test() Function"
   ]
  },
  {
   "cell_type": "code",
   "execution_count": 12,
   "metadata": {},
   "outputs": [],
   "source": [
    "y_pred=Lr.Predict(X_test)"
   ]
  },
  {
   "cell_type": "code",
   "execution_count": 13,
   "metadata": {},
   "outputs": [
    {
     "data": {
      "text/plain": [
       "array([[76.8979596 ],\n",
       "       [21.11549732],\n",
       "       [22.11161272],\n",
       "       [20.11938192],\n",
       "       [36.05722829],\n",
       "       [15.13880493],\n",
       "       [61.95622863],\n",
       "       [94.82803676],\n",
       "       [20.11938192],\n",
       "       [ 5.17765096],\n",
       "       [ 4.18153556],\n",
       "       [19.12326653],\n",
       "       [95.82415215],\n",
       "       [61.95622863],\n",
       "       [36.05722829],\n",
       "       [15.13880493],\n",
       "       [64.94457482],\n",
       "       [14.14268954],\n",
       "       [86.85911357],\n",
       "       [68.92903641],\n",
       "       [88.85134437],\n",
       "       [50.99895925],\n",
       "       [88.85134437],\n",
       "       [27.09218971],\n",
       "       [96.82026755],\n",
       "       [57.97176704],\n",
       "       [78.89019039],\n",
       "       [21.11549732],\n",
       "       [92.83580596],\n",
       "       [27.09218971],\n",
       "       [98.81249835],\n",
       "       [31.0766513 ],\n",
       "       [33.06888209],\n",
       "       [79.88630579],\n",
       "       [28.08830511],\n",
       "       [47.01449766],\n",
       "       [52.99119005],\n",
       "       [68.92903641],\n",
       "       [28.08830511],\n",
       "       [33.06888209],\n",
       "       [90.84357517],\n",
       "       [70.92126721],\n",
       "       [50.00284386],\n",
       "       [75.9018442 ],\n",
       "       [ 4.18153556],\n",
       "       [37.05334369],\n",
       "       [69.92515181],\n",
       "       [67.93292102],\n",
       "       [40.04168988],\n",
       "       [35.06111289],\n",
       "       [93.83192136],\n",
       "       [87.85522897],\n",
       "       [51.99507465],\n",
       "       [31.0766513 ],\n",
       "       [58.96788244],\n",
       "       [ 0.19707397],\n",
       "       [39.04557448],\n",
       "       [63.94845943],\n",
       "       [68.92903641],\n",
       "       [56.97565164],\n",
       "       [13.14657414],\n",
       "       [71.91738261],\n",
       "       [75.9018442 ],\n",
       "       [60.96011323],\n",
       "       [81.87853659],\n",
       "       [18.12715113],\n",
       "       [41.03780528],\n",
       "       [50.00284386],\n",
       "       [54.98342085],\n",
       "       [13.14657414],\n",
       "       [46.01838227],\n",
       "       [13.14657414],\n",
       "       [78.89019039],\n",
       "       [52.99119005],\n",
       "       [15.13880493],\n",
       "       [28.08830511],\n",
       "       [80.88242119],\n",
       "       [68.92903641],\n",
       "       [51.99507465],\n",
       "       [83.87076738],\n",
       "       [67.93292102],\n",
       "       [27.09218971],\n",
       "       [55.97953624],\n",
       "       [48.01061306],\n",
       "       [40.04168988],\n",
       "       [39.04557448],\n",
       "       [81.87853659],\n",
       "       [99.80861375],\n",
       "       [58.96788244],\n",
       "       [43.03003607],\n",
       "       [66.93680562],\n",
       "       [38.04945908],\n",
       "       [62.95234403],\n",
       "       [90.84357517],\n",
       "       [59.96399783],\n",
       "       [14.14268954],\n",
       "       [21.11549732],\n",
       "       [86.85911357],\n",
       "       [72.91349801],\n",
       "       [32.0727667 ],\n",
       "       [ 2.18930476],\n",
       "       [81.87853659],\n",
       "       [19.12326653],\n",
       "       [73.9096134 ],\n",
       "       [42.03392067],\n",
       "       [12.15045874],\n",
       "       [ 1.19318937],\n",
       "       [89.84745977],\n",
       "       [88.85134437],\n",
       "       [ 0.19707397],\n",
       "       [41.03780528],\n",
       "       [16.13492033],\n",
       "       [93.83192136],\n",
       "       [96.82026755],\n",
       "       [65.94069022],\n",
       "       [24.10384351],\n",
       "       [17.13103573],\n",
       "       [89.84745977],\n",
       "       [13.14657414],\n",
       "       [ 0.19707397],\n",
       "       [63.94845943],\n",
       "       [95.82415215],\n",
       "       [97.81638295],\n",
       "       [12.15045874],\n",
       "       [41.03780528],\n",
       "       [47.01449766],\n",
       "       [77.89407499],\n",
       "       [20.11938192],\n",
       "       [88.85134437],\n",
       "       [29.0844205 ],\n",
       "       [63.94845943],\n",
       "       [74.9057288 ],\n",
       "       [12.15045874],\n",
       "       [25.09995891],\n",
       "       [28.08830511],\n",
       "       [30.0805359 ],\n",
       "       [64.94457482],\n",
       "       [58.96788244],\n",
       "       [63.94845943],\n",
       "       [52.99119005],\n",
       "       [70.92126721],\n",
       "       [96.82026755],\n",
       "       [72.91349801],\n",
       "       [ 9.16211255],\n",
       "       [12.15045874],\n",
       "       [62.95234403],\n",
       "       [98.81249835],\n",
       "       [59.96399783],\n",
       "       [35.06111289],\n",
       "       [ 2.18930476],\n",
       "       [59.96399783],\n",
       "       [32.0727667 ],\n",
       "       [93.83192136],\n",
       "       [83.87076738],\n",
       "       [62.95234403],\n",
       "       [22.11161272],\n",
       "       [80.88242119],\n",
       "       [92.83580596],\n",
       "       [33.06888209],\n",
       "       [ 7.16988175],\n",
       "       [42.03392067],\n",
       "       [46.01838227],\n",
       "       [53.98730545],\n",
       "       [16.13492033],\n",
       "       [49.00672846],\n",
       "       [43.03003607],\n",
       "       [94.82803676],\n",
       "       [65.94069022],\n",
       "       [21.11549732],\n",
       "       [35.06111289],\n",
       "       [79.88630579],\n",
       "       [37.05334369],\n",
       "       [53.98730545],\n",
       "       [55.97953624],\n",
       "       [ 1.19318937],\n",
       "       [32.0727667 ],\n",
       "       [57.97176704],\n",
       "       [32.0727667 ],\n",
       "       [46.01838227],\n",
       "       [71.91738261],\n",
       "       [17.13103573],\n",
       "       [96.82026755],\n",
       "       [92.83580596],\n",
       "       [90.84357517],\n",
       "       [37.05334369],\n",
       "       [ 4.18153556],\n",
       "       [53.98730545],\n",
       "       [50.99895925],\n",
       "       [27.09218971],\n",
       "       [46.01838227],\n",
       "       [91.83969056],\n",
       "       [72.91349801],\n",
       "       [76.8979596 ],\n",
       "       [90.84357517],\n",
       "       [60.96011323],\n",
       "       [98.81249835],\n",
       "       [ 4.18153556],\n",
       "       [71.91738261],\n",
       "       [19.12326653],\n",
       "       [56.97565164],\n",
       "       [77.89407499],\n",
       "       [26.09607431],\n",
       "       [73.9096134 ],\n",
       "       [89.84745977],\n",
       "       [65.94069022],\n",
       "       [13.14657414],\n",
       "       [40.04168988],\n",
       "       [76.8979596 ],\n",
       "       [66.93680562],\n",
       "       [74.9057288 ],\n",
       "       [23.10772812],\n",
       "       [45.02226687],\n",
       "       [58.96788244],\n",
       "       [44.02615147],\n",
       "       [23.10772812],\n",
       "       [54.98342085],\n",
       "       [54.98342085],\n",
       "       [94.82803676],\n",
       "       [12.15045874],\n",
       "       [ 4.18153556],\n",
       "       [ 7.16988175],\n",
       "       [99.80861375],\n",
       "       [48.01061306],\n",
       "       [42.03392067],\n",
       "       [95.82415215],\n",
       "       [39.04557448],\n",
       "       [99.80861375],\n",
       "       [86.85911357],\n",
       "       [14.14268954],\n",
       "       [14.14268954],\n",
       "       [37.05334369],\n",
       "       [ 5.17765096],\n",
       "       [87.85522897],\n",
       "       [90.84357517],\n",
       "       [64.94457482],\n",
       "       [73.9096134 ],\n",
       "       [55.97953624],\n",
       "       [16.13492033],\n",
       "       [ 5.17765096],\n",
       "       [28.08830511],\n",
       "       [91.83969056],\n",
       "       [46.01838227],\n",
       "       [53.98730545],\n",
       "       [39.04557448],\n",
       "       [44.02615147],\n",
       "       [31.0766513 ],\n",
       "       [67.93292102],\n",
       "       [85.86299818],\n",
       "       [89.84745977],\n",
       "       [38.04945908],\n",
       "       [21.11549732],\n",
       "       [94.82803676],\n",
       "       [55.97953624],\n",
       "       [59.96399783],\n",
       "       [64.94457482],\n",
       "       [77.89407499],\n",
       "       [88.85134437],\n",
       "       [ 6.17376635],\n",
       "       [66.93680562],\n",
       "       [36.05722829],\n",
       "       [16.13492033],\n",
       "       [99.80861375],\n",
       "       [45.02226687],\n",
       "       [72.91349801],\n",
       "       [56.97565164],\n",
       "       [20.11938192],\n",
       "       [75.9018442 ],\n",
       "       [34.06499749],\n",
       "       [54.98342085],\n",
       "       [71.91738261],\n",
       "       [54.98342085],\n",
       "       [ 8.16599715],\n",
       "       [55.97953624],\n",
       "       [71.91738261],\n",
       "       [57.97176704],\n",
       "       [ 6.17376635],\n",
       "       [95.82415215],\n",
       "       [23.10772812],\n",
       "       [57.97176704],\n",
       "       [23.10772812],\n",
       "       [19.12326653],\n",
       "       [25.09995891],\n",
       "       [63.94845943],\n",
       "       [21.11549732],\n",
       "       [58.96788244],\n",
       "       [19.12326653],\n",
       "       [16.13492033],\n",
       "       [42.03392067],\n",
       "       [43.03003607],\n",
       "       [60.96011323],\n",
       "       [91.83969056],\n",
       "       [11.15434334],\n",
       "       [41.03780528],\n",
       "       [ 1.19318937],\n",
       "       [ 8.16599715],\n",
       "       [70.92126721],\n",
       "       [46.01838227],\n",
       "       [54.98342085],\n",
       "       [61.95622863],\n",
       "       [47.01449766]])"
      ]
     },
     "execution_count": 13,
     "metadata": {},
     "output_type": "execute_result"
    }
   ],
   "source": [
    "y_pred"
   ]
  },
  {
   "cell_type": "markdown",
   "metadata": {},
   "source": [
    "# Lr.Get_Weights() Function"
   ]
  },
  {
   "cell_type": "code",
   "execution_count": 14,
   "metadata": {},
   "outputs": [
    {
     "data": {
      "text/plain": [
       "array([[0.9961154 , 0.19707397]])"
      ]
     },
     "execution_count": 14,
     "metadata": {},
     "output_type": "execute_result"
    }
   ],
   "source": [
    "Lr.Get_Weights()"
   ]
  },
  {
   "cell_type": "code",
   "execution_count": null,
   "metadata": {},
   "outputs": [],
   "source": []
  }
 ],
 "metadata": {
  "kaggle": {
   "accelerator": "none",
   "dataSources": [
    {
     "datasetId": 1256,
     "sourceId": 2242,
     "sourceType": "datasetVersion"
    },
    {
     "datasetId": 239789,
     "sourceId": 508365,
     "sourceType": "datasetVersion"
    },
    {
     "datasetId": 2799910,
     "sourceId": 4832081,
     "sourceType": "datasetVersion"
    },
    {
     "datasetId": 3462333,
     "sourceId": 6051848,
     "sourceType": "datasetVersion"
    },
    {
     "datasetId": 4390920,
     "sourceId": 7540483,
     "sourceType": "datasetVersion"
    }
   ],
   "dockerImageVersionId": 30646,
   "isGpuEnabled": false,
   "isInternetEnabled": true,
   "language": "python",
   "sourceType": "notebook"
  },
  "kernelspec": {
   "display_name": "Python 3 (ipykernel)",
   "language": "python",
   "name": "python3"
  },
  "language_info": {
   "codemirror_mode": {
    "name": "ipython",
    "version": 3
   },
   "file_extension": ".py",
   "mimetype": "text/x-python",
   "name": "python",
   "nbconvert_exporter": "python",
   "pygments_lexer": "ipython3",
   "version": "3.11.4"
  }
 },
 "nbformat": 4,
 "nbformat_minor": 4
}
